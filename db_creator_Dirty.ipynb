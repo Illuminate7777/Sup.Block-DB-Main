import PyPDF2

def convert_pdf_to_text(pdf_path, delimiter="--END--"):
    text = ""
    with open(pdf_path, 'rb') as file:
        reader = PyPDF2.PdfReader(file)
        for page in range (len(reader.pages)):
            text += reader.pages[page].extract_text()
    text += delimiter
    return text
